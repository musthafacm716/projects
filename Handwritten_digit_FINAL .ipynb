{
 "cells": [
  {
   "cell_type": "markdown",
   "id": "5d4e7d97",
   "metadata": {},
   "source": [
    "# IMPORTING LIBRARIES AND LOADING DATASET"
   ]
  },
  {
   "cell_type": "code",
   "execution_count": 1,
   "id": "2dde5fa5",
   "metadata": {},
   "outputs": [],
   "source": [
    "import keras\n",
    "import numpy as np\n",
    "import pandas as pd\n",
    "import matplotlib.pyplot as plt\n",
    "import seaborn as sns\n",
    "import tensorflow as tf\n",
    "\n",
    "import warnings\n",
    "warnings.filterwarnings(\"ignore\")\n",
    "\n",
    "import keras\n",
    "from keras.models import Sequential\n",
    "from keras.layers import Dense, Dropout, Flatten\n",
    "from keras.layers import Conv2D, MaxPooling2D\n",
    "\n",
    "\n",
    "from tensorflow.keras.datasets import mnist\n",
    "(x_train, y_train), (x_test, y_test) = mnist.load_data()\n",
    "\n",
    "from keras_preprocessing.image import ImageDataGenerator, load_img, img_to_array"
   ]
  },
  {
   "cell_type": "markdown",
   "id": "26a22c11",
   "metadata": {},
   "source": [
    "# PREPROCESSING THE DATA"
   ]
  },
  {
   "cell_type": "code",
   "execution_count": 2,
   "id": "77ca64dd",
   "metadata": {},
   "outputs": [
    {
     "name": "stdout",
     "output_type": "stream",
     "text": [
      "x_train shape: (60000, 28, 28, 1)\n",
      "60000 train samples\n",
      "10000 test samples\n"
     ]
    }
   ],
   "source": [
    "x_train = x_train.reshape(x_train.shape[0], 28, 28, 1)\n",
    "x_test = x_test.reshape(x_test.shape[0], 28, 28, 1)\n",
    "input_shape = (28, 28, 1)\n",
    "\n",
    "x_train = x_train.astype('float32')\n",
    "x_test = x_test.astype('float32')\n",
    "x_train /= 255\n",
    "x_test /= 255\n",
    "print('x_train shape:', x_train.shape)\n",
    "print(x_train.shape[0], 'train samples')\n",
    "print(x_test.shape[0], 'test samples')"
   ]
  },
  {
   "cell_type": "code",
   "execution_count": 3,
   "id": "fda1245f",
   "metadata": {},
   "outputs": [
    {
     "data": {
      "image/png": "[encoded data removed]",
      "text/plain": [
       "<Figure size 432x288 with 9 Axes>"
      ]
     },
     "metadata": {
      "needs_background": "light"
     },
     "output_type": "display_data"
    }
   ],
   "source": [
    "# plot first few images\n",
    "for i in range(9):\n",
    "    plt.subplot(330 + 1 + i)\n",
    "    plt.imshow(x_train[i], cmap=plt.get_cmap('gray'))\n",
    "\n",
    "plt.show()"
   ]
  },
  {
   "cell_type": "markdown",
   "id": "99dee5df",
   "metadata": {},
   "source": [
    "# CREATING THE MODEL"
   ]
  },
  {
   "cell_type": "code",
   "execution_count": 4,
   "id": "4ee7df5d",
   "metadata": {},
   "outputs": [],
   "source": [
    "batch_size = 128\n",
    "num_classes = 10\n",
    "epochs = 10\n",
    "model = Sequential()\n",
    "model.add(Conv2D(32, kernel_size=(3, 3),activation='relu',input_shape=input_shape))\n",
    "model.add(Conv2D(64, (3, 3), activation='relu'))\n",
    "model.add(MaxPooling2D(pool_size=(2, 2)))\n",
    "model.add(Dropout(0.25))\n",
    "model.add(Flatten())\n",
    "model.add(Dense(256, activation='relu'))\n",
    "model.add(Dropout(0.5))\n",
    "model.add(Dense(num_classes, activation='softmax'))\n",
    "\n",
    "model.compile(optimizer=\"adam\", \n",
    "              loss=\"sparse_categorical_crossentropy\",\n",
    "              metrics=[\"accuracy\"])"
   ]
  },
  {
   "cell_type": "markdown",
   "id": "9c20e25b",
   "metadata": {},
   "source": [
    "# TRAINING THE MODEL"
   ]
  },
  {
   "cell_type": "code",
   "execution_count": 5,
   "id": "fded39db",
   "metadata": {},
   "outputs": [
    {
     "name": "stdout",
     "output_type": "stream",
     "text": [
      "Epoch 1/10\n",
      "469/469 [==============================] - 80s 169ms/step - loss: 0.1925 - accuracy: 0.9400 - val_loss: 0.0415 - val_accuracy: 0.9871\n",
      "Epoch 2/10\n",
      "469/469 [==============================] - 77s 164ms/step - loss: 0.0655 - accuracy: 0.9799 - val_loss: 0.0310 - val_accuracy: 0.9897\n",
      "Epoch 3/10\n",
      "469/469 [==============================] - 78s 167ms/step - loss: 0.0462 - accuracy: 0.9860 - val_loss: 0.0320 - val_accuracy: 0.9902\n",
      "Epoch 4/10\n",
      "469/469 [==============================] - 76s 163ms/step - loss: 0.0375 - accuracy: 0.9881 - val_loss: 0.0258 - val_accuracy: 0.9915\n",
      "Epoch 5/10\n",
      "469/469 [==============================] - 75s 160ms/step - loss: 0.0308 - accuracy: 0.9902 - val_loss: 0.0321 - val_accuracy: 0.9896\n",
      "Epoch 6/10\n",
      "469/469 [==============================] - 73s 155ms/step - loss: 0.0258 - accuracy: 0.9917 - val_loss: 0.0233 - val_accuracy: 0.9925\n",
      "Epoch 7/10\n",
      "469/469 [==============================] - 74s 157ms/step - loss: 0.0243 - accuracy: 0.9920 - val_loss: 0.0253 - val_accuracy: 0.9920\n",
      "Epoch 8/10\n",
      "469/469 [==============================] - 74s 159ms/step - loss: 0.0206 - accuracy: 0.9931 - val_loss: 0.0269 - val_accuracy: 0.9916\n",
      "Epoch 9/10\n",
      "469/469 [==============================] - 74s 158ms/step - loss: 0.0174 - accuracy: 0.9943 - val_loss: 0.0274 - val_accuracy: 0.9920\n",
      "Epoch 10/10\n",
      "469/469 [==============================] - 75s 160ms/step - loss: 0.0168 - accuracy: 0.9943 - val_loss: 0.0284 - val_accuracy: 0.9915\n",
      "The model has successfully trained\n",
      "Saving the model as mnist.h5\n"
     ]
    }
   ],
   "source": [
    "hist = model.fit(x_train, y_train,batch_size=batch_size,epochs=epochs,verbose=1,validation_data=(x_test, y_test))\n",
    "print(\"The model has successfully trained\")\n",
    "\n",
    "model.save('mnist.h5')\n",
    "print(\"Saving the model as mnist.h5\")"
   ]
  },
  {
   "cell_type": "markdown",
   "id": "77b91dbe",
   "metadata": {},
   "source": [
    "# EVALUATING THE MODEL"
   ]
  },
  {
   "cell_type": "code",
   "execution_count": 6,
   "id": "c8dd948b",
   "metadata": {},
   "outputs": [
    {
     "data": {
      "text/plain": [
       "[0.02843664214015007, 0.9915000200271606]"
      ]
     },
     "execution_count": 6,
     "metadata": {},
     "output_type": "execute_result"
    }
   ],
   "source": [
    "acc= model.evaluate(x_test, y_test, verbose=0)\n",
    "acc"
   ]
  },
  {
   "cell_type": "code",
   "execution_count": 7,
   "id": "613a4781",
   "metadata": {},
   "outputs": [],
   "source": [
    "scores, histories = list(), list()\n",
    "scores.append(acc)\n",
    "histories.append(hist)"
   ]
  },
  {
   "cell_type": "code",
   "execution_count": 9,
   "id": "15a7a9e9",
   "metadata": {},
   "outputs": [
    {
     "data": {
      "image/png": "[encoded data removed]",
      "text/plain": [
       "<Figure size 432x288 with 1 Axes>"
      ]
     },
     "metadata": {
      "needs_background": "light"
     },
     "output_type": "display_data"
    }
   ],
   "source": [
    "# Plot Accuracy\n",
    "for i in range(len(histories)):\n",
    "    plt.subplot(2, 1, 2)\n",
    "    plt.title('Classification Accuracy')\n",
    "    plt.plot(histories[i].history['accuracy'], color='blue', label='train')\n",
    "    plt.plot(histories[i].history['val_accuracy'], color='orange', label='test')\n",
    "    plt.legend()\n",
    "\n",
    "plt.show()"
   ]
  },
  {
   "cell_type": "code",
   "execution_count": 10,
   "id": "b20b82e1",
   "metadata": {},
   "outputs": [
    {
     "data": {
      "image/png": "[encoded data removed]",
      "text/plain": [
       "<Figure size 432x288 with 1 Axes>"
      ]
     },
     "metadata": {
      "needs_background": "light"
     },
     "output_type": "display_data"
    }
   ],
   "source": [
    "# Plot Loss\n",
    "for i in range(len(histories)):\n",
    "    plt.subplot(2, 1, 1)\n",
    "    plt.title('Cross Entropy Loss')\n",
    "    plt.plot(histories[i].history['loss'], color='blue', label='train')\n",
    "    plt.plot(histories[i].history['val_loss'], color='orange', label='test')\n",
    "    plt.legend()"
   ]
  },
  {
   "cell_type": "code",
   "execution_count": 11,
   "id": "1708df55",
   "metadata": {},
   "outputs": [
    {
     "data": {
      "text/plain": [
       "Text(69.0, 0.5, 'true')"
      ]
     },
     "execution_count": 11,
     "metadata": {},
     "output_type": "execute_result"
    },
    {
     "data": {
      "image/png": "[encoded data removed]",
      "text/plain": [
       "<Figure size 720x504 with 2 Axes>"
      ]
     },
     "metadata": {
      "needs_background": "light"
     },
     "output_type": "display_data"
    }
   ],
   "source": [
    "y_pred = model.predict(x_test)\n",
    "y_pred = [np.argmax(i) for i in y_pred]\n",
    "cm = tf.math.confusion_matrix(y_test, y_pred)\n",
    "\n",
    "plt.figure(figsize=(10,7))\n",
    "sns.heatmap(cm, annot=True, fmt='d')\n",
    "plt.xlabel(\"prediction\")\n",
    "plt.ylabel(\"true\")"
   ]
  },
  {
   "cell_type": "markdown",
   "id": "01b4d2af",
   "metadata": {},
   "source": [
    "# PREDICTION "
   ]
  },
  {
   "cell_type": "code",
   "execution_count": 12,
   "id": "250bb143",
   "metadata": {},
   "outputs": [],
   "source": [
    "from numpy import argmax\n",
    "from keras.preprocessing.image import load_img\n",
    "from keras.preprocessing.image import img_to_array\n",
    "from keras.models import load_model"
   ]
  },
  {
   "cell_type": "markdown",
   "id": "7e298276",
   "metadata": {},
   "source": [
    "##### load and prepare the image"
   ]
  },
  {
   "cell_type": "code",
   "execution_count": 13,
   "id": "40a8f450",
   "metadata": {},
   "outputs": [],
   "source": [
    "def load_image(filename):\n",
    "    img = load_img(filename, grayscale=True, target_size=(28, 28))\n",
    "    img = img_to_array(img)\n",
    "    img = img.reshape(1, 28, 28, 1)\n",
    "    img = img.astype('float32')\n",
    "    img = img / 255.0\n",
    "    return img"
   ]
  },
  {
   "cell_type": "markdown",
   "id": "dc9e5622",
   "metadata": {},
   "source": [
    "##### load an image and predict the class"
   ]
  },
  {
   "cell_type": "code",
   "execution_count": 14,
   "id": "82439662",
   "metadata": {},
   "outputs": [
    {
     "name": "stdout",
     "output_type": "stream",
     "text": [
      "7\n"
     ]
    }
   ],
   "source": [
    "def prediction():\n",
    "    img = load_image('sample_image.png')\n",
    "    model=load_model('mnist.h5')\n",
    "    predict_value = model.predict(img)\n",
    "    digit = argmax(predict_value)\n",
    "    print(digit)\n",
    "    \n",
    "prediction()    "
   ]
  },
  {
   "cell_type": "markdown",
   "id": "b9589ba9",
   "metadata": {},
   "source": [
    "# Conclusion :"
   ]
  },
  {
   "cell_type": "markdown",
   "id": "c89e9599",
   "metadata": {},
   "source": [
    "\n",
    " - Loaded image is extracted from the MNIST test dataset, save it in our current working directory with the filename \"sample_image.png\". Running the example first loads and prepares the image, loads the model, and then correctly predicts that the loaded image represents the digit ‘7‘.\n",
    " - The classification accuracy for the model on the test dataset is calculated, we can see that the model achieved an accuracy of 99.15%.\n",
    "\n"
   ]
  },
  {
   "cell_type": "code",
   "execution_count": null,
   "id": "eb6099c0",
   "metadata": {},
   "outputs": [],
   "source": []
  }
 ],
 "metadata": {
  "kernelspec": {
   "display_name": "Python 3",
   "language": "python",
   "name": "python3"
  },
  "language_info": {
   "codemirror_mode": {
    "name": "ipython",
    "version": 3
   },
   "file_extension": ".py",
   "mimetype": "text/x-python",
   "name": "python",
   "nbconvert_exporter": "python",
   "pygments_lexer": "ipython3",
   "version": "3.8.8"
  }
 },
 "nbformat": 4,
 "nbformat_minor": 5
}
